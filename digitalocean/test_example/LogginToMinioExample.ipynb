{
 "cells": [
  {
   "cell_type": "markdown",
   "id": "bb6a632e",
   "metadata": {},
   "source": [
    "# Example Logging MLflow"
   ]
  },
  {
   "cell_type": "code",
   "execution_count": 1,
   "id": "4ece17df",
   "metadata": {
    "execution": {
     "iopub.execute_input": "2021-09-19T12:21:24.795458Z",
     "iopub.status.busy": "2021-09-19T12:21:24.794159Z",
     "iopub.status.idle": "2021-09-19T12:21:29.223609Z",
     "shell.execute_reply": "2021-09-19T12:21:29.222700Z",
     "shell.execute_reply.started": "2021-09-19T12:21:24.795326Z"
    },
    "tags": []
   },
   "outputs": [],
   "source": [
    "import os\n",
    "import warnings\n",
    "import sys\n",
    "\n",
    "import pandas as pd\n",
    "import numpy as np\n",
    "from sklearn.metrics import mean_squared_error, mean_absolute_error, r2_score\n",
    "from sklearn.model_selection import train_test_split\n",
    "from sklearn.linear_model import ElasticNet\n",
    "\n",
    "import mlflow\n",
    "import mlflow.sklearn"
   ]
  },
  {
   "cell_type": "code",
   "execution_count": 2,
   "id": "4185a1ed",
   "metadata": {
    "execution": {
     "iopub.execute_input": "2021-09-19T12:21:29.229186Z",
     "iopub.status.busy": "2021-09-19T12:21:29.225175Z",
     "iopub.status.idle": "2021-09-19T12:21:29.250960Z",
     "shell.execute_reply": "2021-09-19T12:21:29.247764Z",
     "shell.execute_reply.started": "2021-09-19T12:21:29.229073Z"
    },
    "tags": []
   },
   "outputs": [],
   "source": [
    "def eval_metrics(actual, pred):\n",
    "    rmse = np.sqrt(mean_squared_error(actual, pred))\n",
    "    mae = mean_absolute_error(actual, pred)\n",
    "    r2 = r2_score(actual, pred)\n",
    "    return rmse, mae, r2"
   ]
  },
  {
   "cell_type": "code",
   "execution_count": 3,
   "id": "d375c15b",
   "metadata": {
    "execution": {
     "iopub.execute_input": "2021-09-19T12:21:29.281856Z",
     "iopub.status.busy": "2021-09-19T12:21:29.281093Z",
     "iopub.status.idle": "2021-09-19T12:21:29.718504Z",
     "shell.execute_reply": "2021-09-19T12:21:29.714956Z",
     "shell.execute_reply.started": "2021-09-19T12:21:29.281803Z"
    },
    "tags": []
   },
   "outputs": [],
   "source": [
    "# Wine Quality Sample\n",
    "\n",
    "\n",
    "\n",
    "\n",
    "np.random.seed(40)\n",
    "\n",
    "# Read the wine-quality csv file from the URL\n",
    "csv_url =\\\n",
    "    'http://archive.ics.uci.edu/ml/machine-learning-databases/wine-quality/winequality-red.csv'\n",
    "data = pd.read_csv(csv_url, sep=';')\n",
    "\n",
    "\n",
    "# Split the data into training and test sets. (0.75, 0.25) split.\n",
    "train, test = train_test_split(data)\n",
    "\n",
    "# The predicted column is \"quality\" which is a scalar from [3, 9]\n",
    "train_x = train.drop([\"quality\"], axis=1)\n",
    "test_x = test.drop([\"quality\"], axis=1)\n",
    "train_y = train[[\"quality\"]]\n",
    "test_y = test[[\"quality\"]]\n",
    "\n",
    "alpha = 0.5\n",
    "\n",
    "l1_ratio = 0.5\n",
    "      "
   ]
  },
  {
   "cell_type": "code",
   "execution_count": 4,
   "id": "91060cb9",
   "metadata": {
    "execution": {
     "iopub.execute_input": "2021-09-19T12:21:29.724853Z",
     "iopub.status.busy": "2021-09-19T12:21:29.720464Z",
     "iopub.status.idle": "2021-09-19T12:21:29.754965Z",
     "shell.execute_reply": "2021-09-19T12:21:29.749653Z",
     "shell.execute_reply.started": "2021-09-19T12:21:29.724778Z"
    },
    "tags": []
   },
   "outputs": [],
   "source": [
    "mlflow.set_tracking_uri(\"http://localhost:8088\")"
   ]
  },
  {
   "cell_type": "code",
   "execution_count": 5,
   "id": "c8d1cff3",
   "metadata": {
    "execution": {
     "iopub.execute_input": "2021-09-19T12:21:29.781820Z",
     "iopub.status.busy": "2021-09-19T12:21:29.780079Z",
     "iopub.status.idle": "2021-09-19T12:21:32.316196Z",
     "shell.execute_reply": "2021-09-19T12:21:32.314100Z",
     "shell.execute_reply.started": "2021-09-19T12:21:29.781709Z"
    },
    "tags": []
   },
   "outputs": [
    {
     "name": "stdout",
     "output_type": "stream",
     "text": [
      "Elasticnet model (alpha=0.500000, l1_ratio=0.500000):\n",
      "  RMSE: 0.7931640229276851\n",
      "  MAE: 0.6271946374319586\n",
      "  R2: 0.10862644997792614\n"
     ]
    }
   ],
   "source": [
    "with mlflow.start_run():\n",
    "    # Execute ElasticNet\n",
    "    lr = ElasticNet(alpha=alpha, l1_ratio=l1_ratio, random_state=42)\n",
    "    lr.fit(train_x, train_y)\n",
    "\n",
    "    # Evaluate Metrics\n",
    "    predicted_qualities = lr.predict(test_x)\n",
    "    (rmse, mae, r2) = eval_metrics(test_y, predicted_qualities)\n",
    "\n",
    "    # Print out metrics\n",
    "    print(\"Elasticnet model (alpha=%f, l1_ratio=%f):\" % (alpha, l1_ratio))\n",
    "    print(\"  RMSE: %s\" % rmse)\n",
    "    print(\"  MAE: %s\" % mae)\n",
    "    print(\"  R2: %s\" % r2)\n",
    "\n",
    "    # Log parameter, metrics, and model to MLflow\n",
    "    mlflow.log_param(\"alpha\", alpha)\n",
    "    mlflow.log_param(\"l1_ratio\", l1_ratio)\n",
    "    mlflow.log_metric(\"rmse\", rmse)\n",
    "    mlflow.log_metric(\"r2\", r2)\n",
    "    mlflow.log_metric(\"mae\", mae)\n",
    "\n",
    "    mlflow.sklearn.log_model(lr, \"model\")\n"
   ]
  },
  {
   "cell_type": "code",
   "execution_count": null,
   "id": "1c9bcdeb",
   "metadata": {},
   "outputs": [],
   "source": []
  }
 ],
 "metadata": {
  "interpreter": {
   "hash": "9997e183861e8d4f0874ff606d1a029c67cf384cd69175c81b40efaba25a6ee8"
  },
  "kernelspec": {
   "display_name": "Python 3 (ipykernel)",
   "language": "python",
   "name": "python3"
  },
  "language_info": {
   "codemirror_mode": {
    "name": "ipython",
    "version": 3
   },
   "file_extension": ".py",
   "mimetype": "text/x-python",
   "name": "python",
   "nbconvert_exporter": "python",
   "pygments_lexer": "ipython3",
   "version": "3.7.10"
  }
 },
 "nbformat": 4,
 "nbformat_minor": 5
}
